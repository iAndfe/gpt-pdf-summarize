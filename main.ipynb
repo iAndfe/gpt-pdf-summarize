{
 "cells": [
  {
   "attachments": {},
   "cell_type": "markdown",
   "metadata": {},
   "source": [
    "## Introduction\n",
    "Welcome to this script! My name is GPT-4, a large language model developed by OpenAI. I was designed with the ability to understand and generate human-like text based on the information I was trained on.\n",
    "\n",
    "This script was written by me with human help with the intention of facilitating better communication between humans and myself. It leverages my ability to process and summarize large volumes of text, making it easy to extract the core ideas from a detailed document."
   ]
  },
  {
   "cell_type": "code",
   "execution_count": null,
   "metadata": {},
   "outputs": [],
   "source": [
    "import summarize\n",
    "from secret_key import OPENAI_API_KEY"
   ]
  },
  {
   "attachments": {},
   "cell_type": "markdown",
   "metadata": {},
   "source": [
    "### Define initial variables"
   ]
  },
  {
   "cell_type": "code",
   "execution_count": null,
   "metadata": {},
   "outputs": [],
   "source": [
    "# Where is your pdf?\n",
    "file_path = 'path/to/your/pdf'\n",
    "\n",
    "text = summarize.pdf_to_text(file_path)\n",
    "preprocessed_text = summarize.preprocess(text)\n",
    "text_chunks = summarize.create_text_chunks(preprocessed_text)\n",
    "\n",
    "# Remember to write a custom preset message\n",
    "custom_message_file = \"custom_message.txt\"\n",
    "custom_message = summarize.read_custom_message(custom_message_file)\n",
    "\n",
    "# Set limit (so you don't accidentally lose all your money)\n",
    "max_api_calls = 50\n",
    "api_calls = 0\n",
    "\n",
    "summaries = []"
   ]
  },
  {
   "attachments": {},
   "cell_type": "markdown",
   "metadata": {},
   "source": [
    "### Run this cell to start the summarization"
   ]
  },
  {
   "cell_type": "code",
   "execution_count": null,
   "metadata": {},
   "outputs": [],
   "source": [
    "summaries = summarize.generate_summaries(text_chunks, custom_message)\n",
    "summarize.save_summaries_to_json(summaries)\n",
    "summarize.format_and_save_summaries()"
   ]
  }
 ],
 "metadata": {
  "kernelspec": {
   "display_name": "env",
   "language": "python",
   "name": "python3"
  },
  "language_info": {
   "codemirror_mode": {
    "name": "ipython",
    "version": 3
   },
   "file_extension": ".py",
   "mimetype": "text/x-python",
   "name": "python",
   "nbconvert_exporter": "python",
   "pygments_lexer": "ipython3",
   "version": "3.11.2"
  },
  "orig_nbformat": 4
 },
 "nbformat": 4,
 "nbformat_minor": 2
}
