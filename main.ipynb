{
 "cells": [
  {
   "attachments": {},
   "cell_type": "markdown",
   "metadata": {},
   "source": [
    "## Introduction\n",
    "Welcome to this script! My name is GPT-4, a large language model developed by OpenAI. I was designed with the ability to understand and generate human-like text based on the information I was trained on.\n",
    "\n",
    "This script was written by me with human help with the intention of facilitating better communication between humans and myself. It leverages my ability to process and summarize large volumes of text, making it easy to extract the core ideas from a detailed document."
   ]
  },
  {
   "cell_type": "code",
   "execution_count": 1,
   "metadata": {},
   "outputs": [],
   "source": [
    "import summarize\n",
    "from secret_key import OPENAI_API_KEY"
   ]
  },
  {
   "attachments": {},
   "cell_type": "markdown",
   "metadata": {},
   "source": [
    "### Define initial variables"
   ]
  },
  {
   "cell_type": "code",
   "execution_count": 6,
   "metadata": {},
   "outputs": [],
   "source": [
    "# Where is your pdf?\n",
    "file_path = 'path/to/your/pdf'\n",
    "file_path = 'pdfs/ifc_reports/508682-1001-REP-JJ-0001 T1 100%.pdf'\n",
    "\n",
    "# Remember to write a custom message that explains what you are sending to GPT, and what you want it to do!\n",
    "custom_message_file = \"custom_message.txt\"\n",
    "\n",
    "# Set GPT version (GPT-4 is way better), uncomment accordingly\n",
    "gpt_version = 'gpt-3.5-turbo'\n",
    "#gpt_version = 'gpt-4'\n",
    "\n",
    "# Set limit (so you don't accidentally lose all your money)\n",
    "max_api_calls = 50"
   ]
  },
  {
   "attachments": {},
   "cell_type": "markdown",
   "metadata": {},
   "source": [
    "### Run this cell to start the summarization (upto 20 minutes for long documents)"
   ]
  },
  {
   "cell_type": "code",
   "execution_count": 7,
   "metadata": {},
   "outputs": [],
   "source": [
    "text = summarize.pdf_to_text(file_path)\n",
    "preprocessed_text = summarize.preprocess(text)\n",
    "text_chunks = summarize.create_text_chunks(preprocessed_text)\n",
    "custom_message = summarize.read_custom_message(custom_message_file)\n",
    "\n",
    "api_calls = 0\n",
    "summaries = []\n",
    "\n",
    "summaries = summarize.generate_summaries(\n",
    "    text_chunks,\n",
    "    custom_message,\n",
    "    max_api_calls,\n",
    "    gpt_version,\n",
    "    OPENAI_API_KEY\n",
    ")\n",
    "\n",
    "summarize.save_summaries_to_json(summaries)\n",
    "summarize.format_and_save_summaries()"
   ]
  }
 ],
 "metadata": {
  "kernelspec": {
   "display_name": "env",
   "language": "python",
   "name": "python3"
  },
  "language_info": {
   "codemirror_mode": {
    "name": "ipython",
    "version": 3
   },
   "file_extension": ".py",
   "mimetype": "text/x-python",
   "name": "python",
   "nbconvert_exporter": "python",
   "pygments_lexer": "ipython3",
   "version": "3.11.2"
  },
  "orig_nbformat": 4
 },
 "nbformat": 4,
 "nbformat_minor": 2
}
