{
 "cells": [
  {
   "cell_type": "code",
   "execution_count": 1,
   "metadata": {},
   "outputs": [],
   "source": [
    "import summarize\n",
    "from secret_key import OPENAI_API_KEY"
   ]
  },
  {
   "attachments": {},
   "cell_type": "markdown",
   "metadata": {},
   "source": [
    "### Define path to pdf you wish to summarize, load custom message, and preprocess GPT-4 prompts"
   ]
  },
  {
   "cell_type": "code",
   "execution_count": null,
   "metadata": {},
   "outputs": [],
   "source": [
    "file_path = 'pdfs/construction/NAL Tunnel 2 - Construction Report - HEB Construction.pdf'\n",
    "\n",
    "text = summarize.pdf_to_text(file_path)\n",
    "preprocessed_text = summarize.preprocess(text)\n",
    "text_chunks = summarize.create_text_chunks(preprocessed_text)\n",
    "\n",
    "custom_message_file = \"custom_message.txt\"\n",
    "custom_message = summarize.read_custom_message(custom_message_file)\n",
    "\n",
    "summaries = []\n",
    "max_api_calls = 50\n",
    "api_calls = 0"
   ]
  },
  {
   "attachments": {},
   "cell_type": "markdown",
   "metadata": {},
   "source": [
    "### Run this cell to start the summarization"
   ]
  },
  {
   "cell_type": "code",
   "execution_count": null,
   "metadata": {},
   "outputs": [],
   "source": [
    "summaries = summarize.generate_summaries(text_chunks, custom_message)\n",
    "summarize.save_summaries_to_json(summaries)\n",
    "summarize.format_and_save_summaries()"
   ]
  }
 ],
 "metadata": {
  "kernelspec": {
   "display_name": "env",
   "language": "python",
   "name": "python3"
  },
  "language_info": {
   "codemirror_mode": {
    "name": "ipython",
    "version": 3
   },
   "file_extension": ".py",
   "mimetype": "text/x-python",
   "name": "python",
   "nbconvert_exporter": "python",
   "pygments_lexer": "ipython3",
   "version": "3.11.2"
  },
  "orig_nbformat": 4
 },
 "nbformat": 4,
 "nbformat_minor": 2
}
