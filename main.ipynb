{
 "cells": [
  {
   "cell_type": "code",
   "execution_count": 1,
   "metadata": {},
   "outputs": [],
   "source": [
    "import json\n",
    "import os\n",
    "\n",
    "from helper import pdf_to_text, preprocess, create_text_chunks, read_custom_message, call_openai_api, count_tokens\n",
    "from secret_key import OPENAI_API_KEY"
   ]
  },
  {
   "attachments": {},
   "cell_type": "markdown",
   "metadata": {},
   "source": [
    "### Define path to pdf you wish to summarize, load custom message, and preprocess GPT-4 prompts"
   ]
  },
  {
   "cell_type": "code",
   "execution_count": null,
   "metadata": {},
   "outputs": [],
   "source": [
    "file_path = 'path/to/your/pdf'\n",
    "text = pdf_to_text(file_path)\n",
    "preprocessed_text = preprocess(text)\n",
    "text_chunks = create_text_chunks(preprocessed_text)\n",
    "\n",
    "custom_message_file = \"custom_message.txt\"\n",
    "custom_message = read_custom_message(custom_message_file)\n",
    "\n",
    "summaries = []\n",
    "max_api_calls = 50\n",
    "api_calls = 0"
   ]
  },
  {
   "attachments": {},
   "cell_type": "markdown",
   "metadata": {},
   "source": [
    "### Main script, that loops through summarizing each page (with custom message preset)."
   ]
  },
  {
   "cell_type": "code",
   "execution_count": 3,
   "metadata": {},
   "outputs": [],
   "source": [
    "for chunk in text_chunks:\n",
    "    if api_calls >= max_api_calls:\n",
    "        break\n",
    "\n",
    "    summary = call_openai_api(chunk, custom_message)\n",
    "\n",
    "    if summary:\n",
    "        token_count = count_tokens(summary)\n",
    "        summaries.append({\n",
    "            \"original_chunk\": chunk,\n",
    "            \"summary\": summary,\n",
    "            \"token_count\": token_count\n",
    "        })\n",
    "\n",
    "        api_calls += 1\n",
    "\n",
    "os.makedirs(\"processed\", exist_ok=True)\n",
    "\n",
    "with open(\"processed/summaries.json\", \"w\") as f:\n",
    "    json.dump(summaries, f, indent=2)"
   ]
  },
  {
   "attachments": {},
   "cell_type": "markdown",
   "metadata": {},
   "source": [
    "### Formats .json into a more human readable .txt format"
   ]
  },
  {
   "cell_type": "code",
   "execution_count": 4,
   "metadata": {},
   "outputs": [],
   "source": [
    "# Load the data\n",
    "with open('processed/summaries.json', 'r') as file:\n",
    "    data = json.load(file)\n",
    "\n",
    "# Extract the summaries\n",
    "summaries = [entry['summary'] for entry in data]\n",
    "\n",
    "# Write the summaries to a new .txt file\n",
    "with open('processed/summaries_formatted.txt', 'w') as file:\n",
    "    for summary in summaries:\n",
    "        summary_str = json.dumps(summary, indent=4)\n",
    "        summary_str = summary_str.replace('\\\\n', '\\n')\n",
    "        file.write(summary_str)\n",
    "        file.write('\\n\\n')"
   ]
  }
 ],
 "metadata": {
  "kernelspec": {
   "display_name": "env",
   "language": "python",
   "name": "python3"
  },
  "language_info": {
   "codemirror_mode": {
    "name": "ipython",
    "version": 3
   },
   "file_extension": ".py",
   "mimetype": "text/x-python",
   "name": "python",
   "nbconvert_exporter": "python",
   "pygments_lexer": "ipython3",
   "version": "3.11.2"
  },
  "orig_nbformat": 4
 },
 "nbformat": 4,
 "nbformat_minor": 2
}
